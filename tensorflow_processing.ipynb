{
 "cells": [
  {
   "cell_type": "markdown",
   "id": "978a5a0e",
   "metadata": {},
   "source": [
    "# NLP with Tensorflow"
   ]
  },
  {
   "cell_type": "markdown",
   "id": "062998bc",
   "metadata": {},
   "source": [
    "Working on the Spam Classification dataset from kaggle. We will perform Basic NLP processes using Tensorflow."
   ]
  },
  {
   "cell_type": "markdown",
   "id": "e2d2cffc",
   "metadata": {},
   "source": [
    "## Data Cleansing"
   ]
  },
  {
   "cell_type": "code",
   "execution_count": 1,
   "id": "5d29bdf4",
   "metadata": {},
   "outputs": [],
   "source": [
    "import pandas as pd\n",
    "import numpy as np\n",
    "import matplotlib.pyplot as plt\n",
    "\n",
    "import tensorflow as tf\n",
    "from tensorflow import keras\n",
    "from tensorflow.keras.preprocessing.text import Tokenizer\n",
    "from tensorflow.keras.preprocessing.sequence import pad_sequences\n",
    "from tensorflow.keras.models import Sequential\n",
    "from tensorflow.keras.layers import *"
   ]
  },
  {
   "cell_type": "code",
   "execution_count": 2,
   "id": "90a751c6",
   "metadata": {},
   "outputs": [
    {
     "data": {
      "text/html": [
       "<div>\n",
       "<style scoped>\n",
       "    .dataframe tbody tr th:only-of-type {\n",
       "        vertical-align: middle;\n",
       "    }\n",
       "\n",
       "    .dataframe tbody tr th {\n",
       "        vertical-align: top;\n",
       "    }\n",
       "\n",
       "    .dataframe thead th {\n",
       "        text-align: right;\n",
       "    }\n",
       "</style>\n",
       "<table border=\"1\" class=\"dataframe\">\n",
       "  <thead>\n",
       "    <tr style=\"text-align: right;\">\n",
       "      <th></th>\n",
       "      <th>CATEGORY</th>\n",
       "      <th>MESSAGE</th>\n",
       "    </tr>\n",
       "  </thead>\n",
       "  <tbody>\n",
       "    <tr>\n",
       "      <th>0</th>\n",
       "      <td>1</td>\n",
       "      <td>Dear Homeowner,\\n\\n \\n\\nInterest Rates are at ...</td>\n",
       "    </tr>\n",
       "    <tr>\n",
       "      <th>1</th>\n",
       "      <td>1</td>\n",
       "      <td>ATTENTION: This is a MUST for ALL Computer Use...</td>\n",
       "    </tr>\n",
       "    <tr>\n",
       "      <th>2</th>\n",
       "      <td>1</td>\n",
       "      <td>This is a multi-part message in MIME format.\\n...</td>\n",
       "    </tr>\n",
       "    <tr>\n",
       "      <th>3</th>\n",
       "      <td>1</td>\n",
       "      <td>IMPORTANT INFORMATION:\\n\\n\\n\\nThe new domain n...</td>\n",
       "    </tr>\n",
       "    <tr>\n",
       "      <th>4</th>\n",
       "      <td>1</td>\n",
       "      <td>This is the bottom line.  If you can GIVE AWAY...</td>\n",
       "    </tr>\n",
       "  </tbody>\n",
       "</table>\n",
       "</div>"
      ],
      "text/plain": [
       "   CATEGORY                                            MESSAGE\n",
       "0         1  Dear Homeowner,\\n\\n \\n\\nInterest Rates are at ...\n",
       "1         1  ATTENTION: This is a MUST for ALL Computer Use...\n",
       "2         1  This is a multi-part message in MIME format.\\n...\n",
       "3         1  IMPORTANT INFORMATION:\\n\\n\\n\\nThe new domain n...\n",
       "4         1  This is the bottom line.  If you can GIVE AWAY..."
      ]
     },
     "execution_count": 2,
     "metadata": {},
     "output_type": "execute_result"
    }
   ],
   "source": [
    "df = pd.read_csv('dataset/spam_email_raw_text.csv')\n",
    "df.drop(columns = ['FILE_NAME'], inplace = True)\n",
    "df.head()"
   ]
  },
  {
   "cell_type": "code",
   "execution_count": 3,
   "id": "10faca3e",
   "metadata": {},
   "outputs": [
    {
     "name": "stdout",
     "output_type": "stream",
     "text": [
      "<class 'pandas.core.frame.DataFrame'>\n",
      "RangeIndex: 5796 entries, 0 to 5795\n",
      "Data columns (total 2 columns):\n",
      " #   Column    Non-Null Count  Dtype \n",
      "---  ------    --------------  ----- \n",
      " 0   CATEGORY  5796 non-null   int64 \n",
      " 1   MESSAGE   5796 non-null   object\n",
      "dtypes: int64(1), object(1)\n",
      "memory usage: 90.7+ KB\n"
     ]
    }
   ],
   "source": [
    "df.info()"
   ]
  },
  {
   "cell_type": "code",
   "execution_count": 4,
   "id": "2183bdda",
   "metadata": {},
   "outputs": [
    {
     "data": {
      "text/plain": [
       "0    3900\n",
       "1    1896\n",
       "Name: CATEGORY, dtype: int64"
      ]
     },
     "execution_count": 4,
     "metadata": {},
     "output_type": "execute_result"
    }
   ],
   "source": [
    "df.CATEGORY.value_counts()"
   ]
  },
  {
   "cell_type": "code",
   "execution_count": 5,
   "id": "c37406e9",
   "metadata": {},
   "outputs": [],
   "source": [
    "from sklearn.model_selection import train_test_split\n",
    "train, test = train_test_split(df, random_state = 42, stratify = df.CATEGORY)\n",
    "train.reset_index(inplace = True, drop = True)\n",
    "test.reset_index(inplace = True, drop = True)"
   ]
  },
  {
   "cell_type": "code",
   "execution_count": 6,
   "id": "6e6e03d3",
   "metadata": {},
   "outputs": [],
   "source": [
    "# initializing some parameters\n",
    "params = {}\n",
    "params['vocab_size'] = 10000\n",
    "params['oov_tok'] = \"<OOV>\"\n",
    "params['max_length'] = 200\n",
    "params['padding_type'] = 'pre'\n",
    "params['trunc_type'] = 'post'\n",
    "params['embedding_dim'] = 20"
   ]
  },
  {
   "cell_type": "code",
   "execution_count": 7,
   "id": "fbbb1f8e",
   "metadata": {},
   "outputs": [],
   "source": [
    "tokenizer = Tokenizer(num_words = params['vocab_size'], oov_token = params['oov_tok'])\n",
    "tokenizer.fit_on_texts(train.MESSAGE)\n",
    "word_index = tokenizer.word_index"
   ]
  },
  {
   "cell_type": "code",
   "execution_count": 8,
   "id": "680abc7f",
   "metadata": {},
   "outputs": [],
   "source": [
    "train_sequences = tokenizer.texts_to_sequences(train.MESSAGE)\n",
    "train_padded = pad_sequences(train_sequences, maxlen = params['max_length'], padding = params['padding_type'], \n",
    "                             truncating = params['trunc_type'])\n",
    "\n",
    "test_sequences = tokenizer.texts_to_sequences(test.MESSAGE)\n",
    "test_padded = pad_sequences(test_sequences, maxlen = params['max_length'], padding = params['padding_type'], \n",
    "                            truncating = params['trunc_type'])"
   ]
  },
  {
   "cell_type": "markdown",
   "id": "43bf9d41",
   "metadata": {},
   "source": [
    "# Model Training"
   ]
  },
  {
   "cell_type": "code",
   "execution_count": 9,
   "id": "5ec75764",
   "metadata": {},
   "outputs": [
    {
     "name": "stdout",
     "output_type": "stream",
     "text": [
      "Model: \"sequential\"\n",
      "_________________________________________________________________\n",
      " Layer (type)                Output Shape              Param #   \n",
      "=================================================================\n",
      " embedding (Embedding)       (None, 200, 20)           200000    \n",
      "                                                                 \n",
      " global_average_pooling1d (G  (None, 20)               0         \n",
      " lobalAveragePooling1D)                                          \n",
      "                                                                 \n",
      " dense (Dense)               (None, 32)                672       \n",
      "                                                                 \n",
      " dense_1 (Dense)             (None, 1)                 33        \n",
      "                                                                 \n",
      "=================================================================\n",
      "Total params: 200,705\n",
      "Trainable params: 200,705\n",
      "Non-trainable params: 0\n",
      "_________________________________________________________________\n",
      "None\n"
     ]
    }
   ],
   "source": [
    "# building the neural network\n",
    "model = Sequential([\n",
    "    Embedding(params['vocab_size'], params['embedding_dim'], input_length = params['max_length']),\n",
    "    GlobalAveragePooling1D(),\n",
    "    Dense(32, activation = 'relu'),\n",
    "    Dense(1, activation = 'sigmoid')\n",
    "])\n",
    "print(model.summary())"
   ]
  },
  {
   "cell_type": "code",
   "execution_count": 10,
   "id": "0a54d7ca",
   "metadata": {},
   "outputs": [],
   "source": [
    "model.compile(loss = 'binary_crossentropy', optimizer = 'adam', metrics = ['accuracy'])\n",
    "history = model.fit(\n",
    "    train_padded, train.CATEGORY, epochs = 20, \n",
    "    validation_data = (test_padded, test.CATEGORY),\n",
    "    verbose = 0\n",
    ")"
   ]
  },
  {
   "cell_type": "code",
   "execution_count": 11,
   "id": "a11ecc35",
   "metadata": {},
   "outputs": [
    {
     "data": {
      "image/png": "[encoded data removed]",
      "text/plain": [
       "<Figure size 720x360 with 2 Axes>"
      ]
     },
     "metadata": {
      "needs_background": "light"
     },
     "output_type": "display_data"
    }
   ],
   "source": [
    "# plotting the results\n",
    "def plot_graphs(history):\n",
    "    fig, axes = plt.subplots(1, 2, figsize = (10, 5))\n",
    "    axes[0].plot(history.history['loss'], label = 'Train Loss')\n",
    "    axes[0].plot(history.history['val_loss'], label = 'Val. Loss')\n",
    "    axes[1].plot(history.history['accuracy'], label = 'Train Accuracy')\n",
    "    axes[1].plot(history.history['val_accuracy'], label = 'Val. Accuracy')\n",
    "    axes[0].legend(loc = 'best')\n",
    "    axes[1].legend(loc = 'best')\n",
    "    fig.supxlabel('Epochs')\n",
    "    fig.supylabel('Propagation')\n",
    "    plt.show()\n",
    "\n",
    "plot_graphs(history)"
   ]
  },
  {
   "cell_type": "markdown",
   "id": "e675d2ea",
   "metadata": {},
   "source": [
    "## Saving model and tokenizer"
   ]
  },
  {
   "cell_type": "code",
   "execution_count": 12,
   "id": "f37b25cc",
   "metadata": {},
   "outputs": [],
   "source": [
    "import json\n",
    "model.save('tf_model.h5')\n",
    "tf_tokenizer = tokenizer.to_json()\n",
    "fid1 = open('tf_tokenizer.json', 'w')\n",
    "fid2 = open('tf_params.json', 'w')\n",
    "json.dump(tf_tokenizer, fid1)\n",
    "json.dump(params, fid2)\n",
    "fid1.close()\n",
    "fid2.close()"
   ]
  }
 ],
 "metadata": {
  "kernelspec": {
   "display_name": "Python 3 (ipykernel)",
   "language": "python",
   "name": "python3"
  },
  "language_info": {
   "codemirror_mode": {
    "name": "ipython",
    "version": 3
   },
   "file_extension": ".py",
   "mimetype": "text/x-python",
   "name": "python",
   "nbconvert_exporter": "python",
   "pygments_lexer": "ipython3",
   "version": "3.9.12"
  }
 },
 "nbformat": 4,
 "nbformat_minor": 5
}
