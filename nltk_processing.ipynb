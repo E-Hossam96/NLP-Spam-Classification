{
 "cells": [
  {
   "cell_type": "markdown",
   "id": "4c7ca104",
   "metadata": {},
   "source": [
    "# NLP with NLTK"
   ]
  },
  {
   "cell_type": "markdown",
   "id": "edbc4311",
   "metadata": {},
   "source": [
    "## Data Cleansing"
   ]
  },
  {
   "cell_type": "markdown",
   "id": "8ee25c4c",
   "metadata": {},
   "source": [
    "In this notebook we will process the dataset, train the models, and save the best model. Link to download the dataset from kaggle.\n",
    "https://www.kaggle.com/chandramoulinaidu/spam-classification-for-basic-nlp"
   ]
  },
  {
   "cell_type": "code",
   "execution_count": 1,
   "id": "9da5ac19",
   "metadata": {},
   "outputs": [],
   "source": [
    "import pandas as pd, numpy as np, matplotlib.pyplot as plt, nltk"
   ]
  },
  {
   "cell_type": "code",
   "execution_count": 2,
   "id": "66e1d546",
   "metadata": {},
   "outputs": [
    {
     "data": {
      "text/html": [
       "<div>\n",
       "<style scoped>\n",
       "    .dataframe tbody tr th:only-of-type {\n",
       "        vertical-align: middle;\n",
       "    }\n",
       "\n",
       "    .dataframe tbody tr th {\n",
       "        vertical-align: top;\n",
       "    }\n",
       "\n",
       "    .dataframe thead th {\n",
       "        text-align: right;\n",
       "    }\n",
       "</style>\n",
       "<table border=\"1\" class=\"dataframe\">\n",
       "  <thead>\n",
       "    <tr style=\"text-align: right;\">\n",
       "      <th></th>\n",
       "      <th>CATEGORY</th>\n",
       "      <th>MESSAGE</th>\n",
       "      <th>FILE_NAME</th>\n",
       "    </tr>\n",
       "  </thead>\n",
       "  <tbody>\n",
       "    <tr>\n",
       "      <th>0</th>\n",
       "      <td>1</td>\n",
       "      <td>Dear Homeowner,\\n\\n \\n\\nInterest Rates are at ...</td>\n",
       "      <td>00249.5f45607c1bffe89f60ba1ec9f878039a</td>\n",
       "    </tr>\n",
       "    <tr>\n",
       "      <th>1</th>\n",
       "      <td>1</td>\n",
       "      <td>ATTENTION: This is a MUST for ALL Computer Use...</td>\n",
       "      <td>00373.ebe8670ac56b04125c25100a36ab0510</td>\n",
       "    </tr>\n",
       "    <tr>\n",
       "      <th>2</th>\n",
       "      <td>1</td>\n",
       "      <td>This is a multi-part message in MIME format.\\n...</td>\n",
       "      <td>00214.1367039e50dc6b7adb0f2aa8aba83216</td>\n",
       "    </tr>\n",
       "    <tr>\n",
       "      <th>3</th>\n",
       "      <td>1</td>\n",
       "      <td>IMPORTANT INFORMATION:\\n\\n\\n\\nThe new domain n...</td>\n",
       "      <td>00210.050ffd105bd4e006771ee63cabc59978</td>\n",
       "    </tr>\n",
       "    <tr>\n",
       "      <th>4</th>\n",
       "      <td>1</td>\n",
       "      <td>This is the bottom line.  If you can GIVE AWAY...</td>\n",
       "      <td>00033.9babb58d9298daa2963d4f514193d7d6</td>\n",
       "    </tr>\n",
       "  </tbody>\n",
       "</table>\n",
       "</div>"
      ],
      "text/plain": [
       "   CATEGORY                                            MESSAGE  \\\n",
       "0         1  Dear Homeowner,\\n\\n \\n\\nInterest Rates are at ...   \n",
       "1         1  ATTENTION: This is a MUST for ALL Computer Use...   \n",
       "2         1  This is a multi-part message in MIME format.\\n...   \n",
       "3         1  IMPORTANT INFORMATION:\\n\\n\\n\\nThe new domain n...   \n",
       "4         1  This is the bottom line.  If you can GIVE AWAY...   \n",
       "\n",
       "                                FILE_NAME  \n",
       "0  00249.5f45607c1bffe89f60ba1ec9f878039a  \n",
       "1  00373.ebe8670ac56b04125c25100a36ab0510  \n",
       "2  00214.1367039e50dc6b7adb0f2aa8aba83216  \n",
       "3  00210.050ffd105bd4e006771ee63cabc59978  \n",
       "4  00033.9babb58d9298daa2963d4f514193d7d6  "
      ]
     },
     "metadata": {},
     "output_type": "display_data"
    }
   ],
   "source": [
    "data = pd.read_csv('dataset/spam_email_raw_text.csv')\n",
    "display(data.head())"
   ]
  },
  {
   "cell_type": "code",
   "execution_count": 3,
   "id": "fad358f6",
   "metadata": {},
   "outputs": [],
   "source": [
    "data.drop(columns = ['FILE_NAME'], inplace = True)"
   ]
  },
  {
   "cell_type": "code",
   "execution_count": 4,
   "id": "17f56852",
   "metadata": {},
   "outputs": [
    {
     "name": "stdout",
     "output_type": "stream",
     "text": [
      "(5796, 2)\n"
     ]
    }
   ],
   "source": [
    "print(data.shape)"
   ]
  },
  {
   "cell_type": "code",
   "execution_count": 5,
   "id": "1d3f8302",
   "metadata": {},
   "outputs": [
    {
     "name": "stdout",
     "output_type": "stream",
     "text": [
      "0    3900\n",
      "1    1896\n",
      "Name: CATEGORY, dtype: int64\n"
     ]
    }
   ],
   "source": [
    "print(data.CATEGORY.value_counts())"
   ]
  },
  {
   "cell_type": "markdown",
   "id": "1dcaba0b",
   "metadata": {},
   "source": [
    "with `1` means spam and `0` means not spam, we have an unbalanced dataset"
   ]
  },
  {
   "cell_type": "code",
   "execution_count": 6,
   "id": "5db37b2f",
   "metadata": {},
   "outputs": [
    {
     "name": "stdout",
     "output_type": "stream",
     "text": [
      "Dear Homeowner,\n",
      "\n",
      " \n",
      "\n",
      "Interest Rates are at their lowest point in 40 years!\n",
      "\n",
      "\n",
      "\n",
      "We help you find the best rate for your situation by\n",
      "\n",
      "matching your needs with hundreds of lenders!\n",
      "\n",
      "\n",
      "\n",
      "Home Improvement, Refinance, Second Mortgage,\n",
      "\n",
      "Home Equity Loans, and More! Even with less than\n",
      "\n",
      "perfect credit!\n",
      "\n",
      "\n",
      "\n",
      "This service is 100% FREE to home owners and new\n",
      "\n",
      "home buyers without any obligation. \n",
      "\n",
      "\n",
      "\n",
      "Just fill out a quick, simple form and jump-start\n",
      "\n",
      "your future plans today!\n",
      "\n",
      "\n",
      "\n",
      "\n",
      "\n",
      "Visit http://61.145.116.186/user0201/index.asp?Afft=QM10\n",
      "\n",
      "\n",
      "\n",
      "\n",
      "\n",
      "\n",
      "\n",
      "\n",
      "\n",
      "\n",
      "\n",
      "\n",
      "\n",
      "To unsubscribe, please visit:\n",
      "\n",
      "\n",
      "\n",
      "http://61.145.116.186/light/watch.asp\n",
      "\n",
      "\n",
      "\n",
      "\n",
      "\n"
     ]
    }
   ],
   "source": [
    "# example of a spam email\n",
    "print(data.MESSAGE[0])"
   ]
  },
  {
   "cell_type": "code",
   "execution_count": 7,
   "id": "719dd84b",
   "metadata": {},
   "outputs": [
    {
     "name": "stdout",
     "output_type": "stream",
     "text": [
      "['Dear', 'Homeowner', 'Interest', 'Rates', 'are', 'at', 'their', 'lowest', 'point', 'in', '40', 'years', 'We', 'help', 'you', 'find', 'the', 'best', 'rate', 'for', 'your', 'situation', 'by', 'matching', 'your', 'needs', 'with', 'hundreds', 'of', 'lenders', 'Home', 'Improvement', 'Refinance', 'Second', 'Mortgage', 'Home', 'Equity', 'Loans', 'and', 'More', 'Even', 'with', 'less', 'than', 'perfect', 'credit', 'This', 'service', 'is', '100', 'FREE', 'to', 'home', 'owners', 'and', 'new', 'home', 'buyers', 'without', 'any', 'obligation', 'Just', 'fill', 'out', 'a', 'quick', 'simple', 'form', 'and', 'jump', 'start', 'your', 'future', 'plans', 'today', 'Visit', 'http', '61', '145', '116', '186', 'user0201', 'index', 'asp', 'Afft', 'QM10', 'To', 'unsubscribe', 'please', 'visit', 'http', '61', '145', '116', '186', 'light', 'watch', 'asp']\n"
     ]
    }
   ],
   "source": [
    "tokenizer = nltk.RegexpTokenizer(r\"\\w+\")\n",
    "test_message = data.MESSAGE[0]\n",
    "test_message_tokenized = tokenizer.tokenize(test_message)\n",
    "print(test_message_tokenized)"
   ]
  },
  {
   "cell_type": "code",
   "execution_count": 8,
   "id": "533f7b59",
   "metadata": {},
   "outputs": [
    {
     "name": "stdout",
     "output_type": "stream",
     "text": [
      "['dear', 'homeowner', 'interest', 'rates', 'are', 'at', 'their', 'lowest', 'point', 'in', '40', 'years', 'we', 'help', 'you', 'find', 'the', 'best', 'rate', 'for', 'your', 'situation', 'by', 'matching', 'your', 'needs', 'with', 'hundreds', 'of', 'lenders', 'home', 'improvement', 'refinance', 'second', 'mortgage', 'home', 'equity', 'loans', 'and', 'more', 'even', 'with', 'less', 'than', 'perfect', 'credit', 'this', 'service', 'is', '100', 'free', 'to', 'home', 'owners', 'and', 'new', 'home', 'buyers', 'without', 'any', 'obligation', 'just', 'fill', 'out', 'a', 'quick', 'simple', 'form', 'and', 'jump', 'start', 'your', 'future', 'plans', 'today', 'visit', 'http', '61', '145', '116', '186', 'user0201', 'index', 'asp', 'afft', 'qm10', 'to', 'unsubscribe', 'please', 'visit', 'http', '61', '145', '116', '186', 'light', 'watch', 'asp']\n"
     ]
    }
   ],
   "source": [
    "test_message_lower = [string.lower() for string in test_message_tokenized]\n",
    "print(test_message_lower)"
   ]
  },
  {
   "cell_type": "code",
   "execution_count": 9,
   "id": "f4855c7a",
   "metadata": {},
   "outputs": [
    {
     "name": "stdout",
     "output_type": "stream",
     "text": [
      "['dear', 'homeowner', 'interest', 'rate', 'are', 'at', 'their', 'lowest', 'point', 'in', '40', 'year', 'we', 'help', 'you', 'find', 'the', 'best', 'rate', 'for', 'your', 'situation', 'by', 'matching', 'your', 'need', 'with', 'hundred', 'of', 'lender', 'home', 'improvement', 'refinance', 'second', 'mortgage', 'home', 'equity', 'loan', 'and', 'more', 'even', 'with', 'le', 'than', 'perfect', 'credit', 'this', 'service', 'is', '100', 'free', 'to', 'home', 'owner', 'and', 'new', 'home', 'buyer', 'without', 'any', 'obligation', 'just', 'fill', 'out', 'a', 'quick', 'simple', 'form', 'and', 'jump', 'start', 'your', 'future', 'plan', 'today', 'visit', 'http', '61', '145', '116', '186', 'user0201', 'index', 'asp', 'afft', 'qm10', 'to', 'unsubscribe', 'please', 'visit', 'http', '61', '145', '116', '186', 'light', 'watch', 'asp']\n"
     ]
    }
   ],
   "source": [
    "from nltk.stem import WordNetLemmatizer\n",
    "lemmatizer = WordNetLemmatizer()\n",
    "test_message_lemmatized = [lemmatizer.lemmatize(string) for string in test_message_lower]\n",
    "print(test_message_lemmatized)"
   ]
  },
  {
   "cell_type": "code",
   "execution_count": 10,
   "id": "7463eae0",
   "metadata": {},
   "outputs": [
    {
     "name": "stdout",
     "output_type": "stream",
     "text": [
      "['dear', 'homeowner', 'interest', 'rate', 'lowest', 'point', '40', 'year', 'help', 'find', 'best', 'rate', 'situation', 'matching', 'need', 'hundred', 'lender', 'home', 'improvement', 'refinance', 'second', 'mortgage', 'home', 'equity', 'loan', 'even', 'le', 'perfect', 'credit', 'service', '100', 'free', 'home', 'owner', 'new', 'home', 'buyer', 'without', 'obligation', 'fill', 'quick', 'simple', 'form', 'jump', 'start', 'future', 'plan', 'today', 'visit', 'http', '61', '145', '116', '186', 'user0201', 'index', 'asp', 'afft', 'qm10', 'unsubscribe', 'please', 'visit', 'http', '61', '145', '116', '186', 'light', 'watch', 'asp']\n"
     ]
    }
   ],
   "source": [
    "from nltk.corpus import stopwords\n",
    "stop_words = stopwords.words('english')\n",
    "test_message_important = [string for string in test_message_lemmatized if string not in stop_words]\n",
    "print(test_message_important)"
   ]
  },
  {
   "cell_type": "code",
   "execution_count": 11,
   "id": "98020fa0",
   "metadata": {},
   "outputs": [],
   "source": [
    "def text_to_tokens(message):\n",
    "    message_tokenized = tokenizer.tokenize(message)\n",
    "    message_lower = [string.lower() for string in message_tokenized]\n",
    "    message_lemmatized = [lemmatizer.lemmatize(string) for string in message_lower]\n",
    "    message_important = [string for string in message_lemmatized if string not in stop_words]\n",
    "    return message_important"
   ]
  },
  {
   "cell_type": "code",
   "execution_count": 12,
   "id": "98556a3a",
   "metadata": {},
   "outputs": [
    {
     "name": "stdout",
     "output_type": "stream",
     "text": [
      "['dear', 'homeowner', 'interest', 'rate', 'lowest', 'point', '40', 'year', 'help', 'find', 'best', 'rate', 'situation', 'matching', 'need', 'hundred', 'lender', 'home', 'improvement', 'refinance', 'second', 'mortgage', 'home', 'equity', 'loan', 'even', 'le', 'perfect', 'credit', 'service', '100', 'free', 'home', 'owner', 'new', 'home', 'buyer', 'without', 'obligation', 'fill', 'quick', 'simple', 'form', 'jump', 'start', 'future', 'plan', 'today', 'visit', 'http', '61', '145', '116', '186', 'user0201', 'index', 'asp', 'afft', 'qm10', 'unsubscribe', 'please', 'visit', 'http', '61', '145', '116', '186', 'light', 'watch', 'asp']\n"
     ]
    }
   ],
   "source": [
    "print(text_to_tokens(data.MESSAGE[0]))"
   ]
  },
  {
   "cell_type": "code",
   "execution_count": 13,
   "id": "e1e50101",
   "metadata": {},
   "outputs": [],
   "source": [
    "from sklearn.model_selection import train_test_split\n",
    "train, test = train_test_split(data, random_state = 42, stratify = data.CATEGORY)\n",
    "train.reset_index(inplace = True, drop = True)\n",
    "test.reset_index(inplace = True, drop = True)"
   ]
  },
  {
   "cell_type": "code",
   "execution_count": 14,
   "id": "63626868",
   "metadata": {},
   "outputs": [
    {
     "data": {
      "text/plain": [
       "0    0.672878\n",
       "1    0.327122\n",
       "Name: CATEGORY, dtype: float64"
      ]
     },
     "execution_count": 14,
     "metadata": {},
     "output_type": "execute_result"
    }
   ],
   "source": [
    "train.CATEGORY.value_counts(normalize = True)"
   ]
  },
  {
   "cell_type": "code",
   "execution_count": 15,
   "id": "4483ee36",
   "metadata": {},
   "outputs": [
    {
     "data": {
      "text/plain": [
       "0    0.672878\n",
       "1    0.327122\n",
       "Name: CATEGORY, dtype: float64"
      ]
     },
     "execution_count": 15,
     "metadata": {},
     "output_type": "execute_result"
    }
   ],
   "source": [
    "test.CATEGORY.value_counts(normalize = True)"
   ]
  },
  {
   "cell_type": "code",
   "execution_count": 16,
   "id": "49ad4409",
   "metadata": {},
   "outputs": [
    {
     "name": "stdout",
     "output_type": "stream",
     "text": [
      "81624\n"
     ]
    }
   ],
   "source": [
    "token_counter = {}\n",
    "\n",
    "for message in train.MESSAGE:\n",
    "    tokens = text_to_tokens(message)\n",
    "    for token in tokens:\n",
    "        if token in token_counter:\n",
    "            token_counter[token] += 1\n",
    "        else:\n",
    "            token_counter[token] = 1\n",
    "\n",
    "print(len(token_counter))"
   ]
  },
  {
   "cell_type": "code",
   "execution_count": 17,
   "id": "27eb96ed",
   "metadata": {},
   "outputs": [
    {
     "name": "stdout",
     "output_type": "stream",
     "text": [
      "True\n"
     ]
    }
   ],
   "source": [
    "# function to access the most frequent tokens based on a threshold\n",
    "def keep_token(token, threshold):\n",
    "    if token not in token_counter:\n",
    "        return False\n",
    "    else:\n",
    "        return token_counter[token] > threshold\n",
    "\n",
    "print(keep_token('http', 10000))"
   ]
  },
  {
   "cell_type": "code",
   "execution_count": 18,
   "id": "3d7e433b",
   "metadata": {},
   "outputs": [
    {
     "name": "stdout",
     "output_type": "stream",
     "text": [
      "['30', '2002', 'wrote', '10', '8', 'go', 'linux', 'border', 'year', 'know', 'ie', 'web', 'http', 'user', 'group', 'ilug', 'www', 'mailman', 'listinfo', 'information', 'list', 'would', 'could', 'u', 'message', 'mailto', 'net', '6', '22', 'c', 'way', 'com', 'click', '3', '2', 'spamassassin', 'org', 'subject', 'b', 'like', 'people', '1', 'want', 'work', 'ha', 'system', 'wa', 'right', 'server', 'service', 'program', 'time', 'need', '4', 'day', 'even', 'one', 'may', 'see', 'get', 'use', 'also', '50', 'mail', 'please', 'world', 'content', 'type', 'text', '5', '00', '0', '20', 'change', 'e', 'form', 'name', 'state', 'mailing', 'html', 'head', 'title', '3d', 'body', 'bgcolor', 'ffffff', '000000', 'table', 'width', 'cellpadding', 'cellspacing', 'align', 'center', 'tr', 'td', '100', 'img', 'src', 'image', 'height', 'gif', 'br', 'font', 'size', 'face', 'arial', 'helvetica', 'sans', 'serif', 'div', 'nbsp', 'href', 'colspan', 'color', 'input', 'email', 'valign', 'value', 'p', 'make', 'free', 'link', 'order', 'business', 'company', 'line', '7', 'verdana', 'spam', 'first', 'left', '_______________________________________________', 'new', 'razor', 'sourceforge', 'option', 'top', 'r', 'address', 'software', 'send', 'rpm', 'home', 'file', 'style', 'span', 'family', 'internet', 'site', '000', 'li', 'money', 'strong', 'blockquote', '3e', '3c']\n"
     ]
    }
   ],
   "source": [
    "# getting tokens repeated more than 1000 times\n",
    "features = []\n",
    "\n",
    "for token in token_counter:\n",
    "    if keep_token(token, 1000):\n",
    "        features.append(token)\n",
    "\n",
    "print(features)"
   ]
  },
  {
   "cell_type": "code",
   "execution_count": 19,
   "id": "a623cf7e",
   "metadata": {},
   "outputs": [
    {
     "name": "stdout",
     "output_type": "stream",
     "text": [
      "[0 0 0 0 0 0 0 0 1 0 0 0 2 0 0 0 0 0 0 0 0 0 0 0 0 0 0 0 0 0 0 0 0 0 0 0 0\n",
      " 0 0 0 0 0 0 0 0 0 0 0 0 1 0 0 1 0 0 1 0 0 0 0 0 0 0 0 1 0 0 0 0 0 0 0 0 0\n",
      " 0 1 0 0 0 0 0 0 0 0 0 0 0 0 0 0 0 0 0 0 0 1 0 0 0 0 0 0 0 0 0 0 0 0 0 0 0\n",
      " 0 0 0 0 0 0 0 0 0 1 0 0 0 0 0 0 0 0 0 0 0 1 0 0 0 0 0 0 0 0 0 4 0 0 0 0 0\n",
      " 0 0 0 0 0 0 0 0]\n"
     ]
    }
   ],
   "source": [
    "def text_to_count_vector(message):\n",
    "    base_dict = {word:0 for word in features}\n",
    "    tokens = text_to_tokens(message)\n",
    "    for token in tokens:\n",
    "        if token in features:\n",
    "            base_dict[token] += 1\n",
    "    count_vector = np.array(list(base_dict.values()))\n",
    "    return count_vector\n",
    "\n",
    "print(text_to_count_vector(data.MESSAGE[0]))"
   ]
  },
  {
   "cell_type": "code",
   "execution_count": 20,
   "id": "567f9eb6",
   "metadata": {},
   "outputs": [],
   "source": [
    "def df_to_X_y(df):\n",
    "    y = df.CATEGORY.to_numpy().astype(int)\n",
    "    messages = df.MESSAGE\n",
    "    count_vectors = []\n",
    "    for message in messages:\n",
    "        count_vector = text_to_count_vector(message)\n",
    "        count_vectors.append(count_vector)\n",
    "    X = np.array(count_vectors).astype(int)\n",
    "    return X, y"
   ]
  },
  {
   "cell_type": "code",
   "execution_count": 21,
   "id": "e324b1ed",
   "metadata": {},
   "outputs": [],
   "source": [
    "X_train, y_train = df_to_X_y(train)\n",
    "X_test, y_test = df_to_X_y(test)"
   ]
  },
  {
   "cell_type": "code",
   "execution_count": 22,
   "id": "948a2b01",
   "metadata": {},
   "outputs": [
    {
     "data": {
      "text/plain": [
       "((4347, 156), (4347,), (1449, 156), (1449,))"
      ]
     },
     "execution_count": 22,
     "metadata": {},
     "output_type": "execute_result"
    }
   ],
   "source": [
    "X_train.shape, y_train.shape, X_test.shape, y_test.shape"
   ]
  },
  {
   "cell_type": "markdown",
   "id": "a4b21e3f",
   "metadata": {},
   "source": [
    "## Model Training"
   ]
  },
  {
   "cell_type": "code",
   "execution_count": 23,
   "id": "dca8a6f5",
   "metadata": {},
   "outputs": [],
   "source": [
    "from sklearn.ensemble import RandomForestClassifier\n",
    "rfc = RandomForestClassifier().fit(X_train, y_train)"
   ]
  },
  {
   "cell_type": "code",
   "execution_count": 24,
   "id": "138ef4da",
   "metadata": {},
   "outputs": [
    {
     "name": "stdout",
     "output_type": "stream",
     "text": [
      "              precision    recall  f1-score   support\n",
      "\n",
      "           0       0.98      0.99      0.98       975\n",
      "           1       0.97      0.95      0.96       474\n",
      "\n",
      "    accuracy                           0.98      1449\n",
      "   macro avg       0.97      0.97      0.97      1449\n",
      "weighted avg       0.98      0.98      0.98      1449\n",
      "\n"
     ]
    }
   ],
   "source": [
    "from sklearn.metrics import classification_report\n",
    "print(classification_report(y_test, rfc.predict(X_test)))"
   ]
  },
  {
   "cell_type": "markdown",
   "id": "755dd5b9",
   "metadata": {},
   "source": [
    "## Saving model and tokenizer"
   ]
  },
  {
   "cell_type": "code",
   "execution_count": 25,
   "id": "7f93ce84",
   "metadata": {},
   "outputs": [],
   "source": [
    "import json, joblib\n",
    "joblib.dump(rfc, 'nltk_model.joblib')\n",
    "fid = open('nltk_features.json', 'w')\n",
    "json.dump(features, fid)\n",
    "fid.close()"
   ]
  }
 ],
 "metadata": {
  "kernelspec": {
   "display_name": "Python 3 (ipykernel)",
   "language": "python",
   "name": "python3"
  },
  "language_info": {
   "codemirror_mode": {
    "name": "ipython",
    "version": 3
   },
   "file_extension": ".py",
   "mimetype": "text/x-python",
   "name": "python",
   "nbconvert_exporter": "python",
   "pygments_lexer": "ipython3",
   "version": "3.9.12"
  }
 },
 "nbformat": 4,
 "nbformat_minor": 5
}
